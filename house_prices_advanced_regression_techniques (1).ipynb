{
  "nbformat": 4,
  "nbformat_minor": 0,
  "metadata": {
    "kernelspec": {
      "language": "python",
      "display_name": "Python 3",
      "name": "python3"
    },
    "language_info": {
      "name": "python",
      "version": "3.7.10",
      "mimetype": "text/x-python",
      "codemirror_mode": {
        "name": "ipython",
        "version": 3
      },
      "pygments_lexer": "ipython3",
      "nbconvert_exporter": "python",
      "file_extension": ".py"
    },
    "colab": {
      "name": "house-prices-advanced-regression-techniques.ipynb",
      "provenance": []
    }
  },
  "cells": [
    {
      "cell_type": "markdown",
      "metadata": {
        "id": "y0x4C5TBu6Vj"
      },
      "source": [
        "![image.png](attachment:b0e30ea8-3e0b-4792-9231-cdcaa22b4be7.png)\n",
        "## House Prices - Advanced Regression Techniques with EDA\n",
        "\n",
        "Data of Start: 24.Sep.2021\n",
        "\n",
        "With 79 explanatory variables describing (almost) every aspect of residential homes in Ames, Iowa, this competition challenges you to predict the final price of each home\n",
        "\n",
        "* random forest, gradient boosting (XGBoost with Parameter Tuning.. LASSO)\n",
        "\n",
        "### Table of Contents\n",
        "1. [Handling Null Values (Train set)](#nullvalue)\n",
        "\n",
        "2. [Handling Null Values (Test set)](#nulltest)\n",
        "\n",
        "3. [EDA](#EDA)\n",
        "\n",
        "   3.1. [Quantitative Variables](#EDAquant)\n",
        "    \n",
        "   3.2. [Categorical Variables](#EDAcateg)\n",
        "    \n",
        "\n",
        "4. [Feature Engineering](#feature)\n",
        "\n",
        "   4.1. [Dealing with Outliers with Lasso](#lasso)\n",
        "    \n",
        "   4.2. [Imbalanced features (binning)](#binning)\n",
        "   \n",
        "   4.3. [Skewed data (log transformation)](#skewed)\n",
        "   \n",
        "   4.4. [Encoding](#encoding)\n",
        "\n",
        "5. [Modelling](#modelling)\n",
        "\n",
        "   5.1. [Parameter Tuning](#tuning)\n",
        "    \n",
        "   5.2. [Stacking](#stacking)\n",
        "    \n",
        "\n",
        "\n"
      ]
    },
    {
      "cell_type": "code",
      "metadata": {
        "execution": {
          "iopub.status.busy": "2021-11-15T12:22:02.674029Z",
          "iopub.execute_input": "2021-11-15T12:22:02.674518Z",
          "iopub.status.idle": "2021-11-15T12:22:03.041456Z",
          "shell.execute_reply.started": "2021-11-15T12:22:02.674459Z",
          "shell.execute_reply": "2021-11-15T12:22:03.040701Z"
        },
        "trusted": true,
        "id": "0NQsBvPtu6Vn"
      },
      "source": [
        "# Import libraries\n",
        "import numpy as np\n",
        "import pandas as pd\n",
        "import seaborn as sns\n",
        "import matplotlib.pyplot as plt\n",
        "import scipy.stats as stats"
      ],
      "execution_count": 3,
      "outputs": []
    },
    {
      "cell_type": "code",
      "metadata": {
        "execution": {
          "iopub.status.busy": "2021-11-15T12:22:03.046056Z",
          "iopub.execute_input": "2021-11-15T12:22:03.046438Z",
          "iopub.status.idle": "2021-11-15T12:22:03.117378Z",
          "shell.execute_reply.started": "2021-11-15T12:22:03.046405Z",
          "shell.execute_reply": "2021-11-15T12:22:03.116476Z"
        },
        "trusted": true,
        "id": "7nvlq_UPu6Vp"
      },
      "source": [
        "# Import data\n",
        "df_train = pd.read_csv('train.csv')\n",
        "df_test = pd.read_csv('test.csv')\n",
        "\n",
        "# Drop Id Column\n",
        "df_train = df_train.drop(columns = 'Id', axis = 1)\n",
        "df_test = df_test.drop(columns = 'Id', axis = 1)\n",
        "\n",
        "# Distinguish attributes between quantitative and categorical attributes\n",
        "categorical = df_train.select_dtypes(include = ['object', 'category']).columns\n",
        "\n",
        "quantitative = df_train.select_dtypes(include = ['int64', 'float64'])\n",
        "quant_order = quantitative.nunique().sort_values(ascending = False).index.tolist()\n",
        "quantitative = quantitative[quant_order].columns"
      ],
      "execution_count": 6,
      "outputs": []
    },
    {
      "cell_type": "markdown",
      "metadata": {
        "id": "gS_Mg-4Au6Vp"
      },
      "source": [
        "There are 1460 instances with 81 attributes in training and test data. It consists of 36 quantitative attributes, 43 categorical attributes, Id and SalePrice which is an attribute we have to predict.\n",
        "\n",
        "- Quantitative: 1stFlrSF, 2ndFlrSF, 3SsnPorch, BedroomAbvGr, BsmtFinSF1, BsmtFinSF2, BsmtFullBath, BsmtHalfBath, BsmtUnfSF, EnclosedPorch, Fireplaces, FullBath, GarageArea, GarageCars, GarageYrBlt, GrLivArea, HalfBath, KitchenAbvGr, LotArea, LotFrontage, LowQualFinSF, MSSubClass, MasVnrArea, MiscVal, MoSold, OpenPorchSF, OverallCond, OverallQual, PoolArea, ScreenPorch, TotRmsAbvGrd, TotalBsmtSF, WoodDeckSF, YearBuilt, YearRemodAdd, YrSold\n",
        "\n",
        "- Categorical: Alley, BldgType, BsmtCond, BsmtExposure, BsmtFinType1, BsmtFinType2, BsmtQual, CentralAir, Condition1, Condition2, Electrical, ExterCond, ExterQual, Exterior1st, Exterior2nd, Fence, FireplaceQu, Foundation, Functional, GarageCond, GarageFinish, GarageQual, GarageType, Heating, HeatingQC, HouseStyle, KitchenQual, LandContour, LandSlope, LotConfig, LotShape, MSZoning, MasVnrType, MiscFeature, Neighborhood, PavedDrive, PoolQC, RoofMatl, RoofStyle, SaleCondition, SaleType, Street, Utilities,"
      ]
    },
    {
      "cell_type": "markdown",
      "metadata": {
        "id": "uq-8q59Fu6Vq"
      },
      "source": [
        "### 1. Handling Null Values (Train set) <a name=\"nullvalue\"></a>\n",
        "\n",
        "Let's check whether there is null value in each attribute."
      ]
    },
    {
      "cell_type": "code",
      "metadata": {
        "execution": {
          "iopub.status.busy": "2021-11-15T12:22:03.118541Z",
          "iopub.execute_input": "2021-11-15T12:22:03.118794Z",
          "iopub.status.idle": "2021-11-15T12:22:03.424058Z",
          "shell.execute_reply.started": "2021-11-15T12:22:03.118767Z",
          "shell.execute_reply": "2021-11-15T12:22:03.423481Z"
        },
        "trusted": true,
        "colab": {
          "base_uri": "https://localhost:8080/",
          "height": 343
        },
        "id": "esfteeuyu6Vr",
        "outputId": "da094e34-03c0-4aba-81ca-3aacea45178b"
      },
      "source": [
        "missing = df_train.isnull().sum()\n",
        "ax = missing[missing > 0].sort_values().plot.bar(color='#86bf91', grid = True)\n",
        "ax.set_title('The count of null values in each attribute')\n",
        "plt.show()"
      ],
      "execution_count": 7,
      "outputs": [
        {
          "output_type": "display_data",
          "data": {
            "image/png": "[encoded data removed]",
            "text/plain": [
              "<Figure size 432x288 with 1 Axes>"
            ]
          },
          "metadata": {
            "needs_background": "light"
          }
        }
      ]
    },
    {
      "cell_type": "markdown",
      "metadata": {
        "id": "syLodwjnu6Vr"
      },
      "source": [
        "There are 19 variables having missing data in the train set. In this case, missing data means the house does not have the subject. For example, missing data (null data) in Fence means that property does not have fence. Also, when GarageCond is Null, it perhaps does not have garage so the condition is not recorded. In this kind of column, null value is actually another category, named 'Not present'\n",
        "\n",
        "Instead of dropping data for these columns for those variables having missing values, we will make them clean for future engineering process. "
      ]
    },
    {
      "cell_type": "code",
      "metadata": {
        "execution": {
          "iopub.status.busy": "2021-11-15T12:22:03.425997Z",
          "iopub.execute_input": "2021-11-15T12:22:03.426372Z",
          "iopub.status.idle": "2021-11-15T12:22:03.455885Z",
          "shell.execute_reply.started": "2021-11-15T12:22:03.426321Z",
          "shell.execute_reply": "2021-11-15T12:22:03.455013Z"
        },
        "trusted": true,
        "colab": {
          "base_uri": "https://localhost:8080/"
        },
        "id": "SxItd3hsu6Vs",
        "outputId": "59aaf5c5-a67e-43eb-d68a-14994acf3916"
      },
      "source": [
        "# Not present category\n",
        "null_category = ['PoolQC', 'MiscFeature', 'Alley', 'Fence', \n",
        "                 'FireplaceQu', 'GarageCond', 'GarageQual', \n",
        "                 'GarageFinish', 'GarageType', 'BsmtCond', \n",
        "                 'BsmtExposure', 'BsmtQual', 'BsmtFinType1', \n",
        "                 'BsmtFinType2']\n",
        "\n",
        "# Fill null values with 'None' for Not present category.\n",
        "for column in null_category:\n",
        "    df_train[column].fillna('None', inplace = True)\n",
        "    \n",
        "    \n",
        "# After imputing `None` for the columns, we will handle other variables having null values.\n",
        "null_columns = df_train.isnull().sum() > 0 # Columns having null values\n",
        "df_train.loc[:, null_columns].isna().sum() # The count of null values in quantitative variables"
      ],
      "execution_count": 8,
      "outputs": [
        {
          "output_type": "execute_result",
          "data": {
            "text/plain": [
              "LotFrontage    259\n",
              "MasVnrType       8\n",
              "MasVnrArea       8\n",
              "Electrical       1\n",
              "GarageYrBlt     81\n",
              "dtype: int64"
            ]
          },
          "metadata": {},
          "execution_count": 8
        }
      ]
    },
    {
      "cell_type": "markdown",
      "metadata": {
        "id": "FdfvoZjCu6Vs"
      },
      "source": [
        "#### 1.1. LotFrontage & MasVnrArea (continous variables)\n",
        "\n",
        "For missing data imputation for LotFrontage and MasVnrArea which are continous variables, KNN imputer to predict the missing values. Before we implement KNN, we have to scale our data because KNN is a distance-based algorithm. Since we have not handled outliers yet, we will use RobustScaler to reduce the effects of outliers. \n",
        "\n",
        "\n",
        "> *KNNImputer: https://scikit-learn.org/stable/modules/generated/sklearn.impute.KNNImputer.html*\n",
        "\n",
        "> *RobustScaler: https://scikit-learn.org/stable/modules/generated/sklearn.preprocessing.RobustScaler.html*\n"
      ]
    },
    {
      "cell_type": "markdown",
      "metadata": {
        "id": "g69oivSlu6Vt"
      },
      "source": [
        "First, we will use continous variables to predict continous variables and categorical variables for categorical variable prediction. Then, use robust scaler, impute missing values with KNN imputer, and do inverse transform to get normalised data back to the original data at last. \n",
        "\n",
        "1. Use Scaler \n",
        "2. KNN Imputer\n",
        "2. Use inverse_transform()"
      ]
    },
    {
      "cell_type": "code",
      "metadata": {
        "execution": {
          "iopub.status.busy": "2021-11-15T12:22:03.457052Z",
          "iopub.execute_input": "2021-11-15T12:22:03.457287Z",
          "iopub.status.idle": "2021-11-15T12:22:03.622073Z",
          "shell.execute_reply.started": "2021-11-15T12:22:03.457262Z",
          "shell.execute_reply": "2021-11-15T12:22:03.620880Z"
        },
        "trusted": true,
        "id": "AOSvKJnau6Vt"
      },
      "source": [
        "# Impute LotFrontage & MasVnrArea (continous variables)\n",
        "from sklearn.impute import KNNImputer\n",
        "from sklearn.preprocessing import StandardScaler\n",
        "from sklearn.preprocessing import RobustScaler\n",
        "\n",
        "# Continuous variables for scaler\n",
        "cont_vars = ['LotFrontage', 'LotArea', 'MasVnrArea', 'BsmtFinSF1', \n",
        "             'BsmtFinSF2', 'BsmtUnfSF', 'TotalBsmtSF', '1stFlrSF', \n",
        "             '2ndFlrSF', 'GrLivArea', 'GarageArea', 'WoodDeckSF', \n",
        "             'OpenPorchSF', 'EnclosedPorch', 'ScreenPorch']\n",
        "\n",
        "scaler = RobustScaler()\n",
        "scaler_transform = pd.DataFrame(scaler.fit_transform(df_train[cont_vars].copy()), columns = [\"col\" + str(i) for i in range(0, 15)])\n",
        "\n",
        "knn_imputer = KNNImputer(n_neighbors = 5, weights = 'uniform', metric = 'nan_euclidean')\n",
        "knn_imp_results = knn_imputer.fit_transform(scaler_transform)\n",
        "knn_imp_results = pd.DataFrame(scaler.inverse_transform(knn_imp_results), columns = ['col' + str(i) for i in range(0, 15)])\n",
        "\n",
        "\n",
        "# Replace LotFrontage & MasVnrArea with imputed values from knn imputer above\n",
        "df_train['LotFrontage'] = knn_imp_results['col0']\n",
        "df_train['MasVnrArea'] = knn_imp_results['col2'].astype('float64')"
      ],
      "execution_count": 9,
      "outputs": []
    },
    {
      "cell_type": "markdown",
      "metadata": {
        "id": "yXW8C2ryu6Vu"
      },
      "source": [
        "#### 1.2. MasVnrType & Electrical (categorical)\n",
        "\n",
        "For the rest of variables which are MasVnrType, Electrical, since they have few number of missing values, mode will be imputed to handle missing values. The mode is the value that appears most frequently in a data set."
      ]
    },
    {
      "cell_type": "code",
      "metadata": {
        "execution": {
          "iopub.status.busy": "2021-11-15T12:22:03.624341Z",
          "iopub.execute_input": "2021-11-15T12:22:03.624727Z",
          "iopub.status.idle": "2021-11-15T12:22:03.637378Z",
          "shell.execute_reply.started": "2021-11-15T12:22:03.624685Z",
          "shell.execute_reply": "2021-11-15T12:22:03.636099Z"
        },
        "trusted": true,
        "id": "wzUBwHR2u6Vu"
      },
      "source": [
        "# MasVnrType & Electrical (categorical)\n",
        "df_train['MasVnrType'] = df_train['MasVnrType'].fillna(df_train['MasVnrType'].mode()[0])\n",
        "df_train['Electrical'] = df_train['Electrical'].fillna(df_train['Electrical'].mode()[0])"
      ],
      "execution_count": null,
      "outputs": []
    },
    {
      "cell_type": "markdown",
      "metadata": {
        "id": "QciNwW3Uu6Vu"
      },
      "source": [
        "#### 1.3. GarageYrBlt\n",
        "\n",
        "It is indentified that GararaYrBlt has 81 missing values in its column. As we consider GarageYrBlt a categorical variable, we will use only categorical variables for Label Encoder to use KNNImputer. Why we use Label Encoder over One-Hot Encoding is that the number of categories is quite large as one-hot encoding can lead to high memory consumption."
      ]
    },
    {
      "cell_type": "code",
      "metadata": {
        "execution": {
          "iopub.status.busy": "2021-11-15T12:22:03.639495Z",
          "iopub.execute_input": "2021-11-15T12:22:03.639856Z",
          "iopub.status.idle": "2021-11-15T12:22:03.768565Z",
          "shell.execute_reply.started": "2021-11-15T12:22:03.639814Z",
          "shell.execute_reply": "2021-11-15T12:22:03.767582Z"
        },
        "trusted": true,
        "id": "xt-h5omJu6Vu"
      },
      "source": [
        "# Get a dataframe with variables of object and category type.\n",
        "categorical_train = df_train.drop(cont_vars, axis = 1) # Drop continous variables\n",
        "categorical_train = categorical_train.drop('SalePrice', axis = 1) # Drop SalePrice\n",
        "categorical_variables = categorical_train.select_dtypes(include = ['object', 'category']).columns # Get only variables of object and category type\n",
        "\n",
        "# Use LabelEncoder\n",
        "from sklearn.preprocessing import LabelEncoder\n",
        "for column in categorical_variables:\n",
        "    categorical_train[column] = LabelEncoder().fit_transform(categorical_train[column])\n",
        "    \n",
        "# KNN Imputer\n",
        "knnimputer = KNNImputer(n_neighbors = 5, weights = 'uniform', metric = 'nan_euclidean')\n",
        "knn_categ_results = knnimputer.fit_transform(categorical_train)\n",
        "knn_categ_results = pd.DataFrame(knn_categ_results, columns = [\"col\" + str(i) for i in range(0, 64)])\n",
        "\n",
        "df_train['GarageYrBlt'] = knn_categ_results['col48']\n",
        "df_train['GarageYrBlt'] = df_train['GarageYrBlt'].astype('int64')"
      ],
      "execution_count": null,
      "outputs": []
    },
    {
      "cell_type": "markdown",
      "metadata": {
        "id": "cwtq0ZQLu6Vv"
      },
      "source": [
        "### 2. Handling Null Values (Test set)<a name=\"nulltest\"></a>"
      ]
    },
    {
      "cell_type": "markdown",
      "metadata": {
        "id": "CGrp3bBzu6Vv"
      },
      "source": [
        "We will apply same method of missing value imputation for test set. The test set must use identical scaling to the training set."
      ]
    },
    {
      "cell_type": "code",
      "metadata": {
        "execution": {
          "iopub.status.busy": "2021-11-15T12:22:03.769851Z",
          "iopub.execute_input": "2021-11-15T12:22:03.770808Z",
          "iopub.status.idle": "2021-11-15T12:22:03.819899Z",
          "shell.execute_reply.started": "2021-11-15T12:22:03.770764Z",
          "shell.execute_reply": "2021-11-15T12:22:03.818760Z"
        },
        "trusted": true,
        "id": "8hTGSg0Ku6Vv"
      },
      "source": [
        "# Fill null values with 'None' for Not present category.\n",
        "for column in null_category:\n",
        "    df_test[column].fillna('None', inplace = True)\n",
        "    \n",
        "    \n",
        "# After imputing `None` for the columns, we will handle other variables having null values.\n",
        "null_columns = df_test.isnull().sum() > 0 # Columns having null values\n",
        "df_test.loc[:, null_columns].isna().sum() # The count of null values in quantitative variables"
      ],
      "execution_count": null,
      "outputs": []
    },
    {
      "cell_type": "code",
      "metadata": {
        "execution": {
          "iopub.status.busy": "2021-11-15T12:22:03.821699Z",
          "iopub.execute_input": "2021-11-15T12:22:03.822039Z",
          "iopub.status.idle": "2021-11-15T12:22:04.258091Z",
          "shell.execute_reply.started": "2021-11-15T12:22:03.822000Z",
          "shell.execute_reply": "2021-11-15T12:22:04.257245Z"
        },
        "trusted": true,
        "id": "tk2kYbTau6Vv"
      },
      "source": [
        "missing_test = df_test.isnull().sum()\n",
        "ax = missing_test[missing_test > 0].sort_values().plot.bar(color='#86bf91', grid = True)\n",
        "ax.set_title('The count of null values in each attribute')\n",
        "plt.show()"
      ],
      "execution_count": null,
      "outputs": []
    },
    {
      "cell_type": "markdown",
      "metadata": {
        "id": "jV7rcwyQu6Vv"
      },
      "source": [
        "#### 2.1. LotFrontage & MasVnrArea (continous variables)"
      ]
    },
    {
      "cell_type": "code",
      "metadata": {
        "execution": {
          "iopub.status.busy": "2021-11-15T12:22:04.259627Z",
          "iopub.execute_input": "2021-11-15T12:22:04.259926Z",
          "iopub.status.idle": "2021-11-15T12:22:04.327438Z",
          "shell.execute_reply.started": "2021-11-15T12:22:04.259894Z",
          "shell.execute_reply": "2021-11-15T12:22:04.326223Z"
        },
        "trusted": true,
        "id": "7PjCwPt2u6Vv"
      },
      "source": [
        "# Impute LotFrontage & MasVnrArea (continous variables)\n",
        "scaler_transform_test = pd.DataFrame(scaler.fit_transform(df_test[cont_vars].copy()), columns = [\"col\" + str(i) for i in range(0, 15)])\n",
        "\n",
        "knn_imputer = KNNImputer(n_neighbors = 5, weights = 'uniform', metric = 'nan_euclidean')\n",
        "knn_imp_results_test = knn_imputer.fit_transform(scaler_transform)\n",
        "knn_imp_results_test = pd.DataFrame(scaler.inverse_transform(knn_imp_results_test), columns = ['col' + str(i) for i in range(0, 15)])\n",
        "\n",
        "\n",
        "# Replace LotFrontage & MasVnrArea with imputed values from knn imputer above\n",
        "df_test['LotFrontage'] = knn_imp_results_test['col0']\n",
        "df_test['MasVnrArea'] = knn_imp_results_test['col2'].astype('float64')"
      ],
      "execution_count": null,
      "outputs": []
    },
    {
      "cell_type": "markdown",
      "metadata": {
        "id": "AfhfXLVgu6Vw"
      },
      "source": [
        "#### 2.2. Other variables with few missing values\n",
        "\n",
        "We will impute the mean for quantitative variables, and impute the mode for categorical variables."
      ]
    },
    {
      "cell_type": "code",
      "metadata": {
        "execution": {
          "iopub.status.busy": "2021-11-15T12:22:04.329308Z",
          "iopub.execute_input": "2021-11-15T12:22:04.329762Z",
          "iopub.status.idle": "2021-11-15T12:22:04.403948Z",
          "shell.execute_reply.started": "2021-11-15T12:22:04.329715Z",
          "shell.execute_reply": "2021-11-15T12:22:04.402976Z"
        },
        "trusted": true,
        "id": "32on-H8lu6Vw"
      },
      "source": [
        "# Get column names having null values\n",
        "null_columns = [i for i in df_test.columns if (df_test[i].isnull().any()) & (i != 'GarageYrBlt')]\n",
        "\n",
        "for column in null_columns:\n",
        "    if df_test[column].dtypes == 'object':\n",
        "        df_test[column] = df_test[column].fillna(df_test[column].mode()[0])\n",
        "    \n",
        "    elif df_test[column].dtypes == 'float64':\n",
        "        df_test[column] = df_test[column].fillna(df_test[column].mean())"
      ],
      "execution_count": null,
      "outputs": []
    },
    {
      "cell_type": "markdown",
      "metadata": {
        "id": "YdpQlHPHu6Vw"
      },
      "source": [
        "#### 2.3. GarageYrBlt"
      ]
    },
    {
      "cell_type": "code",
      "metadata": {
        "execution": {
          "iopub.status.busy": "2021-11-15T12:22:04.405342Z",
          "iopub.execute_input": "2021-11-15T12:22:04.405910Z",
          "iopub.status.idle": "2021-11-15T12:22:04.505962Z",
          "shell.execute_reply.started": "2021-11-15T12:22:04.405865Z",
          "shell.execute_reply": "2021-11-15T12:22:04.504649Z"
        },
        "trusted": true,
        "id": "IBP7sHFru6Vw"
      },
      "source": [
        "# Get a dataframe with variables of object and category type.\n",
        "categorical_test = df_test.drop(cont_vars, axis = 1) # Drop continous variables\n",
        "categorical_variables = categorical_test.select_dtypes(include = ['object', 'category']).columns # Get only variables of object and category type\n",
        "\n",
        "# Use LabelEncoder\n",
        "for column in categorical_variables:\n",
        "    categorical_test[column] = LabelEncoder().fit_transform(categorical_test[column])\n",
        "    \n",
        "# KNN Imputer\n",
        "knnimputer = KNNImputer(n_neighbors = 5, weights = 'uniform', metric = 'nan_euclidean')\n",
        "knn_categ_results_test = knnimputer.fit_transform(categorical_test)\n",
        "knn_categ_results_test = pd.DataFrame(knn_categ_results_test, columns = [\"col\" + str(i) for i in range(0, 64)])\n",
        "\n",
        "df_test['GarageYrBlt'] = knn_categ_results_test['col48']\n",
        "df_test['GarageYrBlt'] = df_test['GarageYrBlt'].astype('int64')"
      ],
      "execution_count": null,
      "outputs": []
    },
    {
      "cell_type": "markdown",
      "metadata": {
        "id": "BTjvL7qEu6Vx"
      },
      "source": [
        "### 3. EDA <a name =\"EDA\"></a>\n",
        "#### 3.1. Quantitative Variables <a name = \"EDAquant\"></a>\n",
        "#### • Distribution\n",
        "\n",
        "\n",
        "\n",
        "In Machine learning or Deep Learning, some of the models such as Linear Regression, Logistic Regression assume that features are normally distributed. Also, If the features provided to them during modeling are normally distributed, the models can perform much better.\n",
        "\n",
        "\n",
        "To check the distribution, we will use histogram of SalePrice and its logarithm."
      ]
    },
    {
      "cell_type": "code",
      "metadata": {
        "execution": {
          "iopub.status.busy": "2021-11-15T12:22:04.509241Z",
          "iopub.execute_input": "2021-11-15T12:22:04.509891Z",
          "iopub.status.idle": "2021-11-15T12:22:04.772120Z",
          "shell.execute_reply.started": "2021-11-15T12:22:04.509844Z",
          "shell.execute_reply": "2021-11-15T12:22:04.771012Z"
        },
        "trusted": true,
        "id": "PebJkKuqu6Vx"
      },
      "source": [
        "ax1 = df_train.SalePrice.hist(color='#86bf91')\n",
        "ax1.set_title('SalePrice Histogram')\n",
        "plt.show()"
      ],
      "execution_count": null,
      "outputs": []
    },
    {
      "cell_type": "code",
      "metadata": {
        "execution": {
          "iopub.status.busy": "2021-11-15T12:22:04.773320Z",
          "iopub.execute_input": "2021-11-15T12:22:04.773595Z",
          "iopub.status.idle": "2021-11-15T12:22:05.341074Z",
          "shell.execute_reply.started": "2021-11-15T12:22:04.773564Z",
          "shell.execute_reply": "2021-11-15T12:22:05.340159Z"
        },
        "trusted": true,
        "id": "mGyPDUgHu6Vx"
      },
      "source": [
        "ax2 = df_train.SalePrice.hist(color='#86bf91', log = True)\n",
        "ax2.set_title('SalePrice Histogram in Log')\n",
        "plt.show()"
      ],
      "execution_count": null,
      "outputs": []
    },
    {
      "cell_type": "markdown",
      "metadata": {
        "id": "YSM2qFv5u6Vx"
      },
      "source": [
        "As these two histograms show right-skewness, it is obvious that SalePrice does not follow normal distribution. Therfore,  transformation for normalisation should be conducted in the further process before performing regression.\n",
        "\n",
        "To check other attributes, Shapiro-Wilk Test will be conducted for all quantitative attributes. The Shapiro-Wilk test evaluates a data sample and quantifies how likely it is that the data was drawn from a Gaussian distribution. The `shapiro()` SciPy function will calculate the Shapiro-Wilk on a given dataset. The function returns both the W-statistic calculated by the test and the p-value.\n",
        "\n",
        "Firstly, We will replace null values with 0. Then, use `shapiro()` to check p-value whether the p-value is under 0.01 and see whether there is any quantitiative attribute following normal distribution."
      ]
    },
    {
      "cell_type": "code",
      "metadata": {
        "execution": {
          "iopub.status.busy": "2021-11-15T12:22:05.342470Z",
          "iopub.execute_input": "2021-11-15T12:22:05.342783Z",
          "iopub.status.idle": "2021-11-15T12:22:05.363819Z",
          "shell.execute_reply.started": "2021-11-15T12:22:05.342732Z",
          "shell.execute_reply": "2021-11-15T12:22:05.363250Z"
        },
        "trusted": true,
        "id": "xcnja9Inu6Vy"
      },
      "source": [
        "normality_test = lambda x: stats.shapiro(x.fillna(0))[1] < 0.01 # Conduct shapiro test on each attribute\n",
        "df_quant = pd.DataFrame(df_train[quantitative])\n",
        "normal = df_quant.apply(normality_test)\n",
        "normal.any()"
      ],
      "execution_count": null,
      "outputs": []
    },
    {
      "cell_type": "markdown",
      "metadata": {
        "id": "GuirEfP5u6Vy"
      },
      "source": [
        "It turns out that the p-value of all quantitiative attirbutes is less than 0.01, which means that none of quantitative attributes follows normal distribution and attributes need transformation."
      ]
    },
    {
      "cell_type": "code",
      "metadata": {
        "execution": {
          "iopub.status.busy": "2021-11-15T12:22:05.364967Z",
          "iopub.execute_input": "2021-11-15T12:22:05.365397Z",
          "iopub.status.idle": "2021-11-15T12:22:16.822334Z",
          "shell.execute_reply.started": "2021-11-15T12:22:05.365348Z",
          "shell.execute_reply": "2021-11-15T12:22:16.821465Z"
        },
        "trusted": true,
        "id": "9ZNTWDpfu6Vy"
      },
      "source": [
        "import warnings\n",
        "warnings.filterwarnings(\"ignore\")\n",
        "\n",
        "f = sns.FacetGrid(df_quant.melt(), col='variable', col_wrap=2, sharex=False, sharey=False)\n",
        "f.map(sns.distplot, 'value', color = 'y')"
      ],
      "execution_count": null,
      "outputs": []
    },
    {
      "cell_type": "markdown",
      "metadata": {
        "id": "BhML4SwYu6Vy"
      },
      "source": [
        "Some independent variables such as LotFrontage,GrLivArea and TotalBsmtSF look like good candidates for log transformation. Logarithm naturally reduces the dynamic range of a variable so the differences are preserved while the scale is not that dramatically skewed. Regression transformation will smooth out some irregularities which could be important for feature construction."
      ]
    },
    {
      "cell_type": "markdown",
      "metadata": {
        "id": "Q8dFG74_u6Vy"
      },
      "source": [
        "#### • Scatter Plot"
      ]
    },
    {
      "cell_type": "code",
      "metadata": {
        "execution": {
          "iopub.status.busy": "2021-11-15T12:22:16.824622Z",
          "iopub.execute_input": "2021-11-15T12:22:16.824859Z",
          "iopub.status.idle": "2021-11-15T12:22:25.840990Z",
          "shell.execute_reply.started": "2021-11-15T12:22:16.824833Z",
          "shell.execute_reply": "2021-11-15T12:22:25.839343Z"
        },
        "trusted": true,
        "id": "Bh1OSmkku6Vy"
      },
      "source": [
        "with plt.rc_context(rc = {'figure.dpi': 500, 'axes.labelsize': 7, \n",
        "                          'xtick.labelsize': 5, 'ytick.labelsize': 5}): \n",
        "\n",
        "    fig, ax = plt.subplots(5, 5, figsize = (8.5, 10), sharey = True)\n",
        "\n",
        "    for idx, (column, axes) in list(enumerate(zip(quantitative[0:22], ax.flatten()))):\n",
        "    \n",
        "        sns.scatterplot(ax = axes, x = df_train[column], \n",
        "                        y = np.log(df_train['SalePrice']), \n",
        "                        hue =  np.log(df_train['SalePrice']), \n",
        "                        palette = 'viridis', alpha = 0.7, s = 8)\n",
        "    \n",
        "        axes.legend([], [], frameon = False)\n",
        "    \n",
        "    else:\n",
        "    \n",
        "        [axes.set_visible(False) for axes in ax.flatten()[idx + 1:]]\n",
        "\n",
        "    plt.tight_layout()\n",
        "    plt.show()"
      ],
      "execution_count": null,
      "outputs": []
    },
    {
      "cell_type": "code",
      "metadata": {
        "execution": {
          "iopub.status.busy": "2021-11-15T12:22:25.842540Z",
          "iopub.execute_input": "2021-11-15T12:22:25.842781Z",
          "iopub.status.idle": "2021-11-15T12:22:32.420106Z",
          "shell.execute_reply.started": "2021-11-15T12:22:25.842755Z",
          "shell.execute_reply": "2021-11-15T12:22:32.419076Z"
        },
        "trusted": true,
        "id": "H2E-ryLnu6Vy"
      },
      "source": [
        "with plt.rc_context(rc = {'figure.dpi': 500, 'axes.labelsize': 7, \n",
        "                          'xtick.labelsize': 5, 'ytick.labelsize': 5}): \n",
        "\n",
        "    fig, ax = plt.subplots(5, 5, figsize = (8.5, 10), sharey = True)\n",
        "\n",
        "    for idx, (column, axes) in list(enumerate(zip(quantitative[22:], ax.flatten()))):\n",
        "    \n",
        "        sns.scatterplot(ax = axes, x = df_train[column], \n",
        "                        y = np.log(df_train['SalePrice']), \n",
        "                        hue =  np.log(df_train['SalePrice']), \n",
        "                        palette = 'viridis', alpha = 0.7, s = 8)\n",
        "    \n",
        "        axes.legend([], [], frameon = False)\n",
        "    \n",
        "    else:\n",
        "    \n",
        "        [axes.set_visible(False) for axes in ax.flatten()[idx + 1:]]\n",
        "\n",
        "    plt.tight_layout()\n",
        "    plt.show()"
      ],
      "execution_count": null,
      "outputs": []
    },
    {
      "cell_type": "markdown",
      "metadata": {
        "id": "puXgkXVGu6Vz"
      },
      "source": [
        "The scatter plots show the presence of imbalance in each attribute and identify which variables are continous and discrete. Based on this, we will keep balanced variables and unbalanced variables separately."
      ]
    },
    {
      "cell_type": "code",
      "metadata": {
        "execution": {
          "iopub.status.busy": "2021-11-15T12:22:32.421245Z",
          "iopub.execute_input": "2021-11-15T12:22:32.421490Z",
          "iopub.status.idle": "2021-11-15T12:22:32.426991Z",
          "shell.execute_reply.started": "2021-11-15T12:22:32.421461Z",
          "shell.execute_reply": "2021-11-15T12:22:32.425979Z"
        },
        "trusted": true,
        "id": "W94HH_qXu6Vz"
      },
      "source": [
        "cont_balanced = ['LotArea', 'BsmtUnfSF', '1stFlrSF', 'TotalBsmtSF', 'BsmtFinSF1', \n",
        "                 'GarageArea', '2ndFlrSF', 'MasVnrArea', 'WoodDeckSF', 'LotFrontage',  \n",
        "                 'OpenPorchSF', 'BsmtFinSF2',  'EnclosedPorch','ScreenPorch',  'GrLivArea']\n",
        "\n",
        "cont_unbalanced = ['LowQualFinSF', 'MiscVal', '3SsnPorch' , 'PoolArea']"
      ],
      "execution_count": null,
      "outputs": []
    },
    {
      "cell_type": "markdown",
      "metadata": {
        "id": "Gg4RKiTGu6Vz"
      },
      "source": [
        "#### • Heat Map"
      ]
    },
    {
      "cell_type": "code",
      "metadata": {
        "execution": {
          "iopub.status.busy": "2021-11-15T12:22:32.428465Z",
          "iopub.execute_input": "2021-11-15T12:22:32.428731Z",
          "iopub.status.idle": "2021-11-15T12:22:33.660244Z",
          "shell.execute_reply.started": "2021-11-15T12:22:32.428703Z",
          "shell.execute_reply": "2021-11-15T12:22:33.659583Z"
        },
        "trusted": true,
        "id": "6S6fo2dru6Vz"
      },
      "source": [
        "quant_price_corr = df_train[quantitative].corr()\n",
        "plt.figure(figsize = (15,10))\n",
        "sns.heatmap(quant_price_corr.corr(), fmt='.2g',cmap= 'PiYG')"
      ],
      "execution_count": null,
      "outputs": []
    },
    {
      "cell_type": "markdown",
      "metadata": {
        "id": "7HgT8f4uu6Vz"
      },
      "source": [
        "It is observed that some attributes such as LotFrontage, LotArea, OverallQual have positive correlation with SalePrice. \n",
        "\n",
        "Especially, GarageCars, GarageArea, OverallQual, YearBuilt have significantly positive correlation with SalePrice."
      ]
    },
    {
      "cell_type": "markdown",
      "metadata": {
        "id": "T1a725pqu6Vz"
      },
      "source": [
        "#### 3.2. Categorical Variables <a name = \"EDAcateg\"></a>"
      ]
    },
    {
      "cell_type": "code",
      "metadata": {
        "execution": {
          "iopub.status.busy": "2021-11-15T12:22:33.661474Z",
          "iopub.execute_input": "2021-11-15T12:22:33.662010Z",
          "iopub.status.idle": "2021-11-15T12:22:33.689905Z",
          "shell.execute_reply.started": "2021-11-15T12:22:33.661969Z",
          "shell.execute_reply": "2021-11-15T12:22:33.689030Z"
        },
        "trusted": true,
        "id": "HiVFKN2Hu6Vz"
      },
      "source": [
        "# Get categorical columns\n",
        "categorical = df_train.drop(cont_balanced, axis = 1) # drop balanced continous\n",
        "categorical = categorical.drop('SalePrice', axis = 1) # drop SalePrice column\n",
        "categorical = categorical.drop(cont_unbalanced, axis = 1).columns.to_list() # drop unbalanced continous\n",
        "\n",
        "# Check cardinality \n",
        "df_train[categorical].nunique().sort_values(ascending = False) # show the number of unique elements in each object"
      ],
      "execution_count": null,
      "outputs": []
    },
    {
      "cell_type": "markdown",
      "metadata": {
        "id": "tsgvOEL6u6Vz"
      },
      "source": [
        "As we check the number of unique elements in each object, we will define high cardinality as the number of unique value >= 50 in this project. High cardinality means high dimensionality in matrix and it often results in overfitting. Therefore, visualisation for observations and the method of feature engineering should be different depending on the degree of cardinality,."
      ]
    },
    {
      "cell_type": "markdown",
      "metadata": {
        "id": "CR2whAvUu6Vz"
      },
      "source": [
        "#### • High Cardinality Features"
      ]
    },
    {
      "cell_type": "code",
      "metadata": {
        "execution": {
          "iopub.status.busy": "2021-11-15T12:22:33.691012Z",
          "iopub.execute_input": "2021-11-15T12:22:33.691333Z",
          "iopub.status.idle": "2021-11-15T12:22:33.720940Z",
          "shell.execute_reply.started": "2021-11-15T12:22:33.691301Z",
          "shell.execute_reply": "2021-11-15T12:22:33.719965Z"
        },
        "trusted": true,
        "id": "9SGrBzXIu6Vz"
      },
      "source": [
        "df_train[categorical].loc[:, df_train.nunique() > 50].nunique().sort_values(ascending = False)"
      ],
      "execution_count": null,
      "outputs": []
    },
    {
      "cell_type": "code",
      "metadata": {
        "execution": {
          "iopub.status.busy": "2021-11-15T12:22:33.722446Z",
          "iopub.execute_input": "2021-11-15T12:22:33.722700Z",
          "iopub.status.idle": "2021-11-15T12:22:33.755259Z",
          "shell.execute_reply.started": "2021-11-15T12:22:33.722670Z",
          "shell.execute_reply": "2021-11-15T12:22:33.754573Z"
        },
        "trusted": true,
        "id": "7JojxiNIu6V0"
      },
      "source": [
        "high_cardinality_df = df_train[categorical].loc[:, df_train.nunique() > 50] # Get a df with only high cardinality feature\n",
        "high_cardinality_df.info() # check data type"
      ],
      "execution_count": null,
      "outputs": []
    },
    {
      "cell_type": "markdown",
      "metadata": {
        "id": "0zfJzRzgu6V0"
      },
      "source": [
        "As data type of high cardinality features is int64, we will change the data type into category."
      ]
    },
    {
      "cell_type": "code",
      "metadata": {
        "execution": {
          "iopub.status.busy": "2021-11-15T12:22:33.756483Z",
          "iopub.execute_input": "2021-11-15T12:22:33.756733Z",
          "iopub.status.idle": "2021-11-15T12:22:33.765593Z",
          "shell.execute_reply.started": "2021-11-15T12:22:33.756706Z",
          "shell.execute_reply": "2021-11-15T12:22:33.764835Z"
        },
        "trusted": true,
        "id": "J9WJksUku6V0"
      },
      "source": [
        "for column in high_cardinality_df.columns:\n",
        "    high_cardinality_df[column] = high_cardinality_df[column].astype('category')"
      ],
      "execution_count": null,
      "outputs": []
    },
    {
      "cell_type": "code",
      "metadata": {
        "execution": {
          "iopub.status.busy": "2021-11-15T12:22:33.766898Z",
          "iopub.execute_input": "2021-11-15T12:22:33.767447Z",
          "iopub.status.idle": "2021-11-15T12:22:44.435687Z",
          "shell.execute_reply.started": "2021-11-15T12:22:33.767405Z",
          "shell.execute_reply": "2021-11-15T12:22:44.434712Z"
        },
        "trusted": true,
        "id": "c3O4_GKGu6V0"
      },
      "source": [
        "# Create visualisation\n",
        "with plt.rc_context(rc = {'figure.dpi': 450, 'axes.labelsize': 5, \n",
        "                          'xtick.labelsize': 4, 'ytick.labelsize': 4}): \n",
        "\n",
        "    fig, ax = plt.subplots(1, 3, figsize = (6, 7.5))\n",
        "\n",
        "    for idx, (column, axes) in list(enumerate(zip(high_cardinality_df.columns, ax.flatten()))): \n",
        "    \n",
        "        sns.stripplot(ax = axes, x = np.log(df_train['SalePrice']), \n",
        "                      y = high_cardinality_df[column], \n",
        "                      palette = 'viridis', alpha = 0.95, size = 1.5)\n",
        "\n",
        "        sns.boxplot(ax = axes, x = np.log(df_train['SalePrice']), \n",
        "                    y = high_cardinality_df[column],\n",
        "                    showmeans = True, meanline = True, zorder = 10,\n",
        "                    meanprops = {'color': 'r', 'linestyle': '-', 'lw': 0.8},\n",
        "                    medianprops = {'visible': False},\n",
        "                    whiskerprops = {'visible': False},\n",
        "                    showfliers = False, showbox = False, showcaps = False)\n",
        "        \n",
        "        sns.pointplot(ax = axes, x = np.log(df_train['SalePrice']), \n",
        "                      y = high_cardinality_df[column],\n",
        "                      ci = None, color = 'r', scale = 0.15)\n",
        "    \n",
        "    else: \n",
        "    \n",
        "        [axes.set_visible(False) for axes in ax.flatten()[idx + 1:]]\n",
        "    \n",
        "    plt.tight_layout()\n",
        "    plt.show()"
      ],
      "execution_count": null,
      "outputs": []
    },
    {
      "cell_type": "markdown",
      "metadata": {
        "id": "QZfUCwf9u6V0"
      },
      "source": [
        "GarageYrBlt, YearRemodAdd, YearBuilt seem to have positivie relationship with SalePrice. As the number comes to the recent, the sale price is increasing in the overall trend. "
      ]
    },
    {
      "cell_type": "markdown",
      "metadata": {
        "id": "4D3ITOwMu6V0"
      },
      "source": [
        "#### • Manageable Cardinality Features\n",
        "For the rest of categorical features possesing manageable cardinality under 50, we will use scatterplot to visualise."
      ]
    },
    {
      "cell_type": "code",
      "metadata": {
        "execution": {
          "iopub.status.busy": "2021-11-15T12:22:44.436873Z",
          "iopub.execute_input": "2021-11-15T12:22:44.437113Z",
          "iopub.status.idle": "2021-11-15T12:22:44.461892Z",
          "shell.execute_reply.started": "2021-11-15T12:22:44.437085Z",
          "shell.execute_reply": "2021-11-15T12:22:44.460891Z"
        },
        "trusted": true,
        "id": "1-QocZAPu6V0"
      },
      "source": [
        "# Get column names with only manageable cardinality features\n",
        "normal_cardinality = df_train[categorical].loc[:, df_train.nunique() <= 50].columns.to_list() "
      ],
      "execution_count": null,
      "outputs": []
    },
    {
      "cell_type": "code",
      "metadata": {
        "execution": {
          "iopub.status.busy": "2021-11-15T12:22:44.465086Z",
          "iopub.execute_input": "2021-11-15T12:22:44.465389Z",
          "iopub.status.idle": "2021-11-15T12:22:49.857132Z",
          "shell.execute_reply.started": "2021-11-15T12:22:44.465334Z",
          "shell.execute_reply": "2021-11-15T12:22:49.856481Z"
        },
        "trusted": true,
        "id": "oYI2dDqVu6V0"
      },
      "source": [
        "with plt.rc_context(rc = {'figure.dpi': 500, 'axes.labelsize': 7, \n",
        "                          'xtick.labelsize': 5, 'ytick.labelsize': 5}): \n",
        "\n",
        "    fig, ax = plt.subplots(3, 4, figsize = (8.5, 10), sharey = True)\n",
        "\n",
        "    for idx, (column, axes) in list(enumerate(zip(normal_cardinality[:12], ax.flatten()))):\n",
        "    \n",
        "        sns.scatterplot(ax = axes, x = df_train[column], \n",
        "                        y = np.log(df_train['SalePrice']), \n",
        "                        hue =  np.log(df_train['SalePrice']), \n",
        "                        palette = 'viridis', alpha = 0.7, s = 8)\n",
        "    \n",
        "        axes.legend([], [], frameon = False)\n",
        "        \n",
        "        \n",
        "        if df_train[column].nunique() > 5: \n",
        "            \n",
        "            plt.setp(axes.get_xticklabels(), rotation = 90)\n",
        "    \n",
        "    else:\n",
        "    \n",
        "        [axes.set_visible(False) for axes in ax.flatten()[idx + 1:]]\n",
        "\n",
        "    plt.tight_layout()\n",
        "    plt.show()"
      ],
      "execution_count": null,
      "outputs": []
    },
    {
      "cell_type": "code",
      "metadata": {
        "execution": {
          "iopub.status.busy": "2021-11-15T12:22:49.858374Z",
          "iopub.execute_input": "2021-11-15T12:22:49.858760Z",
          "iopub.status.idle": "2021-11-15T12:22:57.152908Z",
          "shell.execute_reply.started": "2021-11-15T12:22:49.858731Z",
          "shell.execute_reply": "2021-11-15T12:22:57.151836Z"
        },
        "trusted": true,
        "id": "3ywmYh2ru6V1"
      },
      "source": [
        "with plt.rc_context(rc = {'figure.dpi': 500, 'axes.labelsize': 7, \n",
        "                          'xtick.labelsize': 5, 'ytick.labelsize': 5}): \n",
        "\n",
        "    fig, ax = plt.subplots(3, 4, figsize = (8.5, 10), sharey = True)\n",
        "\n",
        "    for idx, (column, axes) in list(enumerate(zip(normal_cardinality[:12], ax.flatten()))):\n",
        "    \n",
        "        sns.scatterplot(ax = axes, x = df_train[column], \n",
        "                        y = np.log(df_train['SalePrice']), \n",
        "                        hue =  np.log(df_train['SalePrice']), \n",
        "                        palette = 'viridis', alpha = 0.7, s = 8)\n",
        "    \n",
        "        \n",
        "        \n",
        "        if df_train[column].nunique() > 5: \n",
        "            \n",
        "            plt.setp(axes.get_xticklabels(), rotation = 90)\n",
        "    \n",
        "    else:\n",
        "    \n",
        "        [axes.set_visible(False) for axes in ax.flatten()[idx + 1:]]\n",
        "\n",
        "    plt.tight_layout()\n",
        "    plt.show()"
      ],
      "execution_count": null,
      "outputs": []
    },
    {
      "cell_type": "markdown",
      "metadata": {
        "id": "2a8KlVPtu6V1"
      },
      "source": [
        "### 4. Feature Engineering <a name = \"feature\"></a>\n",
        "\n",
        "#### 4.1. Dealing with Outliers with Lasso <a name = \"lasso\"></a>\n",
        "Residuals is one of measures to help us identify outliers. To find a residual, you must take the predicted value and subtract it from the measured value. Lasso which is robust to outliers is used to get predicted value. As it needs caustion to consider removing observations from the data and all data should be encoded properly, indexes of rows to drop were obtained after encoding.\n",
        "\n"
      ]
    },
    {
      "cell_type": "code",
      "metadata": {
        "execution": {
          "iopub.status.busy": "2021-11-15T12:22:57.154180Z",
          "iopub.execute_input": "2021-11-15T12:22:57.154438Z",
          "iopub.status.idle": "2021-11-15T12:22:57.159105Z",
          "shell.execute_reply.started": "2021-11-15T12:22:57.154409Z",
          "shell.execute_reply": "2021-11-15T12:22:57.158264Z"
        },
        "trusted": true,
        "id": "RYQc5-NTu6V1"
      },
      "source": [
        "# Run after encoding to identify the indexes of rows to drop\n",
        "from sklearn import linear_model\n",
        "# Training a model\n",
        "# Lasso_outliers = linear_model.Lasso(alpha = 0.0005)\n",
        "# Lasso_fit = Lasso_outliers.fit(train_X, train_Y)\n",
        "\n",
        "# Getting outliers\n",
        "# residuals = (Lasso_fit.predict(train_X) - df_train['SalePrice'])**2\n",
        "# print(residuals.plot()) # visualise residuals\n",
        "# print(residuals.sort_values(ascending = False).head(10))"
      ],
      "execution_count": null,
      "outputs": []
    },
    {
      "cell_type": "code",
      "metadata": {
        "execution": {
          "iopub.status.busy": "2021-11-15T12:22:57.160255Z",
          "iopub.execute_input": "2021-11-15T12:22:57.160522Z",
          "iopub.status.idle": "2021-11-15T12:22:57.179234Z",
          "shell.execute_reply.started": "2021-11-15T12:22:57.160494Z",
          "shell.execute_reply": "2021-11-15T12:22:57.178514Z"
        },
        "trusted": true,
        "id": "ZhEupQoOu6V1"
      },
      "source": [
        "rows_to_drop = [691, 1182, 1169, 898, 803, 1046, 440]\n",
        "df_train = df_train.drop(rows_to_drop, axis = 0).reset_index(drop = True)"
      ],
      "execution_count": null,
      "outputs": []
    },
    {
      "cell_type": "markdown",
      "metadata": {
        "id": "OLq0h9H4u6V1"
      },
      "source": [
        "#### 4.2. Imbalanced features (binning) <a name = \"binning\"></a>\n",
        "To handle with imbalanced features, we will use binning for imbalanced features such as LowQualFinSF, MiscVal, 3SsnPorch and PoolArea. Binning will convert continous ones to categorical ones (None or Present). Binning of continuous variable introduces non-linearity and tends to improve the performance of the model."
      ]
    },
    {
      "cell_type": "code",
      "metadata": {
        "execution": {
          "iopub.status.busy": "2021-11-15T12:22:57.180347Z",
          "iopub.execute_input": "2021-11-15T12:22:57.181004Z",
          "iopub.status.idle": "2021-11-15T12:22:57.210465Z",
          "shell.execute_reply.started": "2021-11-15T12:22:57.180969Z",
          "shell.execute_reply": "2021-11-15T12:22:57.209577Z"
        },
        "trusted": true,
        "id": "2qsXmeWju6V1"
      },
      "source": [
        "# Binning (none or present)\n",
        "for column in cont_unbalanced:\n",
        "    # Train\n",
        "    df_train.loc[(df_train[column] == 0), column] = 'None'\n",
        "    df_train.loc[(df_train[column] != 0) & (df_train[column] != 'None'), column] = 'Present'\n",
        "    \n",
        "    # Test\n",
        "    df_test.loc[(df_test[column] == 0), column] = 'None'\n",
        "    df_test.loc[(df_test[column] != 0) & (df_test[column] != 'None'), column] = 'Present'"
      ],
      "execution_count": null,
      "outputs": []
    },
    {
      "cell_type": "markdown",
      "metadata": {
        "id": "Jckghdiju6V1"
      },
      "source": [
        "#### 4.3. Skewed data (log transformation) <a name = \"skewed\"></a>\n",
        "For skewed data, log transformation will help to reduce skewness. If the original data follows a log-normal distribution or approximately so, then the log-transformed data follows a normal or near normal distribution. In this case, the log-transformation does remove or reduce skewness. From our observations, we suspected balanced variables which follow normal distribution with skewness. Use log tranformation on them. "
      ]
    },
    {
      "cell_type": "code",
      "metadata": {
        "execution": {
          "iopub.status.busy": "2021-11-15T12:22:57.211625Z",
          "iopub.execute_input": "2021-11-15T12:22:57.211854Z",
          "iopub.status.idle": "2021-11-15T12:22:57.237047Z",
          "shell.execute_reply.started": "2021-11-15T12:22:57.211828Z",
          "shell.execute_reply": "2021-11-15T12:22:57.235875Z"
        },
        "trusted": true,
        "id": "iBEfnGWau6V1"
      },
      "source": [
        "# Log transformationo for balance continous variables\n",
        "df_train[cont_balanced] = np.log(df_train[cont_balanced] + 1) # +1 for avoiding -inf value\n",
        "df_test[cont_balanced] = np.log(df_test[cont_balanced] + 1)"
      ],
      "execution_count": null,
      "outputs": []
    },
    {
      "cell_type": "markdown",
      "metadata": {
        "id": "PnAmQ4nvu6V1"
      },
      "source": [
        "#### 4.4. Encoding <a name = \"encoding\"></a>\n",
        "Three encoding methods are used here. \n",
        "- Mean Encoding: for high cardinality variables with CV and regularisation\n",
        "- Label Encoding: for categorical variable and not ordinal\n",
        "- One-Hot Encoding: for categorical variable but not ordinal"
      ]
    },
    {
      "cell_type": "markdown",
      "metadata": {
        "id": "mdxWKsWJu6V2"
      },
      "source": [
        "##### 4.4.1. Mean Encoding\n",
        "Although one-hot encoding is easy to implement, it will make too many features when it is applied to features with high cardinality and it slows down model training and requires more data to train.\n",
        "\n",
        "For high cardinality features, mean ecoding will be used for more meaningful encoding. To prevent overfitting problem from mean coding, CV and regualarisation will be used togehter. "
      ]
    },
    {
      "cell_type": "code",
      "metadata": {
        "execution": {
          "iopub.status.busy": "2021-11-15T12:22:57.238786Z",
          "iopub.execute_input": "2021-11-15T12:22:57.239057Z",
          "iopub.status.idle": "2021-11-15T12:22:57.254733Z",
          "shell.execute_reply.started": "2021-11-15T12:22:57.239027Z",
          "shell.execute_reply": "2021-11-15T12:22:57.253604Z"
        },
        "trusted": true,
        "id": "hXr0sfv-u6V2"
      },
      "source": [
        "## Mean Encoding \n",
        "## Code from https://www.kaggle.com/vprokopev/mean-likelihood-encodings-a-comprehensive-study\n",
        "# This function works properly only if training and test sets have different indices.\n",
        "\n",
        "from sklearn.model_selection import KFold\n",
        "def mean_encode(train_data, test_data, columns, target_col, alpha = 0, folds = 1):\n",
        "    encoded_cols = []\n",
        "    target_mean_global = train_data[target_col].mean()\n",
        "    for col in columns:\n",
        "        # Getting means for test data\n",
        "        nrows_cat = train_data.groupby(col)[target_col].count()\n",
        "        target_means_cats = train_data.groupby(col)[target_col].mean()\n",
        "        target_means_cats_adj = (target_means_cats*nrows_cat + \n",
        "                                 target_mean_global*alpha)/(nrows_cat+alpha)\n",
        "        # Mapping means to test data\n",
        "        encoded_col_test = test_data[col].map(target_means_cats_adj)\n",
        "        # Getting a train encodings\n",
        "        kfold = KFold(folds, shuffle=True, random_state=1).split(train_data[target_col].values)\n",
        "        parts = []\n",
        "        \n",
        "        for tr_in, val_ind in kfold:\n",
        "            # divide data\n",
        "            df_for_estimation, df_estimated = train_data.iloc[tr_in], train_data.iloc[val_ind]\n",
        "            # getting means on data for estimation (all folds except estimated)\n",
        "            nrows_cat = df_for_estimation.groupby(col)[target_col].count()\n",
        "            target_means_cats = df_for_estimation.groupby(col)[target_col].mean()\n",
        "            target_means_cats_adj = (target_means_cats*nrows_cat + \n",
        "                                         target_mean_global*alpha)/(nrows_cat+alpha)\n",
        "            # Mapping means to estimated fold\n",
        "            encoded_col_train_part = df_estimated[col].map(target_means_cats_adj)\n",
        " \n",
        "            # Saving estimated encodings for a fold\n",
        "            parts.append(encoded_col_train_part)\n",
        "            encoded_col_train = pd.concat(parts, axis = 0)\n",
        "            encoded_col_train.fillna(target_mean_global, inplace = True)\n",
        "\n",
        "        # Saving the column with means\n",
        "        encoded_col = pd.concat([encoded_col_train, encoded_col_test], axis = 0)\n",
        "        encoded_col[encoded_col.isnull()] = target_mean_global\n",
        "        encoded_cols.append(pd.DataFrame({'mean_'+ target_col + '_' + col:encoded_col}))\n",
        "    all_encoded = pd.concat(encoded_cols, axis = 1)\n",
        "    return (all_encoded.loc[train_data.index,:], \n",
        "            all_encoded.loc[test_data.index,:])"
      ],
      "execution_count": null,
      "outputs": []
    },
    {
      "cell_type": "code",
      "metadata": {
        "execution": {
          "iopub.status.busy": "2021-11-15T12:22:57.256533Z",
          "iopub.execute_input": "2021-11-15T12:22:57.256870Z",
          "iopub.status.idle": "2021-11-15T12:22:57.284031Z",
          "shell.execute_reply.started": "2021-11-15T12:22:57.256829Z",
          "shell.execute_reply": "2021-11-15T12:22:57.282967Z"
        },
        "trusted": true,
        "id": "54uEAKZbu6V2"
      },
      "source": [
        "train_mean_encoding_df = df_train[list(high_cardinality_df.columns)] # Get df with only cardinality features\n",
        "train_mean_encoding_df['SalePrice'] = df_train['SalePrice'] # Add column SalePrice\n",
        "\n",
        "target_column = 'SalePrice'\n",
        "mean_encoding_columns = list(train_mean_encoding_df.columns)\n",
        "\n",
        "test_mean_columns = mean_encoding_columns\n",
        "test_mean_columns.remove('SalePrice')\n",
        "test_mean_encoding_df = df_test[test_mean_columns]\n",
        "\n",
        "# As mean encoding function works properly only if training and test sets have different indices, set index for test_df differently.\n",
        "index_0 = list(range(0, 1459))\n",
        "index_1 = list(range(1453, 2912))\n",
        "test_mean_encoding_df = test_mean_encoding_df.rename(index = dict(zip(index_0, index_1)))"
      ],
      "execution_count": null,
      "outputs": []
    },
    {
      "cell_type": "code",
      "metadata": {
        "execution": {
          "iopub.status.busy": "2021-11-15T12:22:57.287339Z",
          "iopub.execute_input": "2021-11-15T12:22:57.287966Z",
          "iopub.status.idle": "2021-11-15T12:22:57.403812Z",
          "shell.execute_reply.started": "2021-11-15T12:22:57.287926Z",
          "shell.execute_reply": "2021-11-15T12:22:57.402930Z"
        },
        "trusted": true,
        "id": "xIZ2S4-iu6V2"
      },
      "source": [
        "Mean_encoding = mean_encode(train_mean_encoding_df, test_mean_encoding_df, \n",
        "                            mean_encoding_columns, target_column, alpha = 5, folds = 10)\n",
        "\n",
        "train_mean_encoded = np.log(Mean_encoding[0].reset_index(drop = True))\n",
        "test_mean_encoded = np.log(Mean_encoding[1].reset_index(drop = True))"
      ],
      "execution_count": null,
      "outputs": []
    },
    {
      "cell_type": "markdown",
      "metadata": {
        "id": "yY5970oZu6V2"
      },
      "source": [
        "##### 4.4.2. Label Encoding\n",
        "Ordinal cateogircal variables will be encoded with label encoding.\n"
      ]
    },
    {
      "cell_type": "code",
      "metadata": {
        "execution": {
          "iopub.status.busy": "2021-11-15T12:22:57.405069Z",
          "iopub.execute_input": "2021-11-15T12:22:57.405412Z",
          "iopub.status.idle": "2021-11-15T12:22:57.459828Z",
          "shell.execute_reply.started": "2021-11-15T12:22:57.405370Z",
          "shell.execute_reply": "2021-11-15T12:22:57.459134Z"
        },
        "trusted": true,
        "id": "8atoM27Fu6V2"
      },
      "source": [
        "ordinal_variables = [\n",
        "    'OverallCond', 'ExterQual', 'ExterCond', 'BsmtQual', 'BsmtCond',\n",
        "    'BsmtExposure', 'BsmtFinType1', 'BsmtFinType2', 'HeatingQC', 'KitchenQual',\n",
        "    'FireplaceQu', 'GarageQual', 'GarageCond', 'PoolQC', 'Fence', 'Street', 'Alley',\n",
        "    'LandSlope', 'Functional', 'GarageFinish', 'MoSold', 'YrSold', 'PavedDrive', \n",
        "    'CentralAir', 'LotShape', 'MSSubClass', \n",
        "]\n",
        "\n",
        "ordinal_df = pd.concat([df_train[ordinal_variables], df_test[ordinal_variables]], join = 'outer', ignore_index = True)\n",
        "\n",
        "from sklearn import preprocessing\n",
        "le = preprocessing.LabelEncoder()\n",
        "\n",
        "for var in ordinal_variables:\n",
        "    ordinal_df[var] = le.fit_transform(ordinal_df[var])\n",
        "    \n",
        "train_ordinal_le = ordinal_df.iloc[:1453, ]\n",
        "test_ordinal_le = (ordinal_df.iloc[1453:, ]).reset_index(drop = True)"
      ],
      "execution_count": null,
      "outputs": []
    },
    {
      "cell_type": "markdown",
      "metadata": {
        "id": "JuucuKQTu6V2"
      },
      "source": [
        "##### 4.4.3. One-Hot Encoding\n",
        "Other categorical variables which are not ordinal will be encoded with one-hot encoding."
      ]
    },
    {
      "cell_type": "code",
      "metadata": {
        "execution": {
          "iopub.status.busy": "2021-11-15T12:22:57.460951Z",
          "iopub.execute_input": "2021-11-15T12:22:57.461166Z",
          "iopub.status.idle": "2021-11-15T12:22:57.539806Z",
          "shell.execute_reply.started": "2021-11-15T12:22:57.461140Z",
          "shell.execute_reply": "2021-11-15T12:22:57.539013Z"
        },
        "trusted": true,
        "id": "MpQ0-XnQu6V2"
      },
      "source": [
        "from sklearn.preprocessing import OneHotEncoder\n",
        "norminal_variables = list(set(normal_cardinality) - set(ordinal_variables))\n",
        "normal_df = pd.concat([df_train[norminal_variables], df_test[norminal_variables]], join = 'outer', ignore_index = True)\n",
        "\n",
        "# One-hot encoding\n",
        "OHE =  OneHotEncoder(sparse = False, handle_unknown = 'ignore')\n",
        "normal_OHE = pd.DataFrame(pd.DataFrame(OHE.fit_transform(normal_df)))\n",
        "normal_OHE.columns = OHE.get_feature_names(normal_df.columns.tolist())\n",
        "\n",
        "# Get % of null in each column\n",
        "category_nulls = pd.DataFrame({'%_nulls': normal_OHE.isin([0]).mean()})\n",
        "category_nulls = category_nulls.reset_index().sort_values(ascending = False, by = '%_nulls')\n",
        "category_nulls = category_nulls.rename(columns = {'index': 'Variable'})\n",
        "\n",
        "# Drop columns with high percentage of null value\n",
        "drop_columns = category_nulls.loc[(category_nulls['%_nulls'] >= 0.99), 'Variable'].values\n",
        "normal_OHE = normal_OHE.drop(drop_columns, axis = 1)\n",
        "\n",
        "# Split to training and testing\n",
        "train_normal_OHE = normal_OHE.iloc[:1453, ]\n",
        "test_normal_OHE = (normal_OHE.iloc[1453:, ]).reset_index(drop = True)"
      ],
      "execution_count": null,
      "outputs": []
    },
    {
      "cell_type": "markdown",
      "metadata": {
        "id": "GO6V4gfSu6V2"
      },
      "source": [
        "#### 4.4.4. Getting Final Training and Testing Set"
      ]
    },
    {
      "cell_type": "code",
      "metadata": {
        "execution": {
          "iopub.status.busy": "2021-11-15T12:22:57.541164Z",
          "iopub.execute_input": "2021-11-15T12:22:57.541800Z",
          "iopub.status.idle": "2021-11-15T12:22:57.552475Z",
          "shell.execute_reply.started": "2021-11-15T12:22:57.541765Z",
          "shell.execute_reply": "2021-11-15T12:22:57.551504Z"
        },
        "trusted": true,
        "id": "cc1gAu29u6V3"
      },
      "source": [
        "train_X = pd.concat([df_train[cont_balanced], train_mean_encoded, train_ordinal_le, train_normal_OHE], axis = 1)\n",
        "train_Y = np.log(df_train['SalePrice'])\n",
        "\n",
        "test_X = pd.concat([df_test[cont_balanced], test_mean_encoded, test_ordinal_le, test_normal_OHE], axis = 1)"
      ],
      "execution_count": null,
      "outputs": []
    },
    {
      "cell_type": "markdown",
      "metadata": {
        "id": "HxZDM-Mau6V3"
      },
      "source": [
        "### 5. Modelling <a name = \"modelling\"></a>\n",
        "Six models will be used including ElasticNet, Lasso, XGB, LGBM, SVR, KRR. For cross validation, RandomizedSearchCV and GridSearchCV are used. With hyperparameter tuning, best parameters for each model are collected. Then, all models will be stacked by using StackingRegressor.\n"
      ]
    },
    {
      "cell_type": "markdown",
      "metadata": {
        "id": "sQ6sUnMWu6V3"
      },
      "source": [
        "#### 5.1. Parameter Tuning <a name = \"tuning\"></a>"
      ]
    },
    {
      "cell_type": "code",
      "metadata": {
        "execution": {
          "iopub.status.busy": "2021-11-15T12:22:57.553589Z",
          "iopub.execute_input": "2021-11-15T12:22:57.554039Z",
          "iopub.status.idle": "2021-11-15T12:22:58.912846Z",
          "shell.execute_reply.started": "2021-11-15T12:22:57.554007Z",
          "shell.execute_reply": "2021-11-15T12:22:58.911871Z"
        },
        "trusted": true,
        "id": "hr6Smz0pu6V3"
      },
      "source": [
        "from sklearn.model_selection import GridSearchCV\n",
        "from sklearn.model_selection import RandomizedSearchCV\n",
        "from sklearn.model_selection import RepeatedKFold\n",
        "from sklearn.model_selection import KFold\n",
        "from sklearn.linear_model import ElasticNet\n",
        "import xgboost as xgb\n",
        "import lightgbm as lgb\n",
        "from sklearn.svm import SVR\n",
        "from sklearn.preprocessing import RobustScaler\n",
        "from sklearn.kernel_ridge import KernelRidge as krr\n",
        "from sklearn.pipeline import Pipeline\n",
        "from sklearn.model_selection import train_test_split\n",
        "from scipy.stats import randint\n",
        "from scipy.stats import uniform\n",
        "\n",
        "\n",
        "\n",
        "\n",
        "CV = KFold(n_splits = 10, random_state = 999, shuffle = True)\n",
        "CV_rep = RepeatedKFold(n_splits = 10, n_repeats = 3, random_state = 999)"
      ],
      "execution_count": null,
      "outputs": []
    },
    {
      "cell_type": "markdown",
      "metadata": {
        "id": "y6yy4hUAu6V3"
      },
      "source": [
        "#### 5.1.1. ElasticNet"
      ]
    },
    {
      "cell_type": "code",
      "metadata": {
        "execution": {
          "iopub.status.busy": "2021-11-15T12:22:58.914559Z",
          "iopub.execute_input": "2021-11-15T12:22:58.915057Z",
          "iopub.status.idle": "2021-11-15T12:22:58.923188Z",
          "shell.execute_reply.started": "2021-11-15T12:22:58.915008Z",
          "shell.execute_reply": "2021-11-15T12:22:58.922260Z"
        },
        "trusted": true,
        "id": "XTj25lTSu6V3"
      },
      "source": [
        "'''\n",
        "ElasticNet_model = linear_model.ElasticNet()\n",
        "\n",
        "alpha_l1 = {'alpha': [x / 25000 for x in range(1, 25, 1)],\n",
        "            'l1_ratio': [x / 100 for x in range(10, 100, 1)],\n",
        "            'tol': [0.000001], \n",
        "            'max_iter': [4000]}\n",
        "\n",
        "ElasticNet_random = RandomizedSearchCV(ElasticNet_model, alpha_l1, verbose = True, \n",
        "                                       scoring = 'neg_root_mean_squared_error', \n",
        "                                       n_jobs = 7, cv = CV, n_iter = 50)\n",
        "\n",
        "ElasticNet_fit = ElasticNet_random.fit(train_X, train_Y)\n",
        "\n",
        "###### Getting scores and parameters ######\n",
        "\n",
        "round(-1*ElasticNet_fit.best_score_, 5)\n",
        "ElasticNet_fit.best_params_\n",
        "'''"
      ],
      "execution_count": null,
      "outputs": []
    },
    {
      "cell_type": "markdown",
      "metadata": {
        "id": "zF9KYNYzu6V3"
      },
      "source": [
        "#### 5.1.2. Lasso"
      ]
    },
    {
      "cell_type": "code",
      "metadata": {
        "execution": {
          "iopub.status.busy": "2021-11-15T12:22:58.924846Z",
          "iopub.execute_input": "2021-11-15T12:22:58.925170Z",
          "iopub.status.idle": "2021-11-15T12:22:58.937292Z",
          "shell.execute_reply.started": "2021-11-15T12:22:58.925127Z",
          "shell.execute_reply": "2021-11-15T12:22:58.936427Z"
        },
        "trusted": true,
        "id": "sK1Go7RKu6V3"
      },
      "source": [
        "'''\n",
        "# Training a model\n",
        "Lasso_model = linear_model.Lasso()\n",
        "\n",
        "alpha = {'alpha': [x / 25000 for x in range(1, 50, 1)],\n",
        "         'tol': [0.0000001], \n",
        "         'max_iter': [3000]}\n",
        "\n",
        "Lasso_grid = GridSearchCV(Lasso_model, alpha, verbose = True, \n",
        "                         scoring = 'neg_root_mean_squared_error', \n",
        "                         n_jobs = 7, cv = CV)\n",
        "\n",
        "Lasso_fit = Lasso_grid.fit(train_X, train_Y)\n",
        "\n",
        "# Getting scores and parameters\n",
        "round(-1*Lasso_fit.best_score_, 5)\n",
        "Lasso_fit.best_params_\n",
        "'''"
      ],
      "execution_count": null,
      "outputs": []
    },
    {
      "cell_type": "markdown",
      "metadata": {
        "id": "DmLIPji2u6V3"
      },
      "source": [
        "#### 5.1.3. XGBoost"
      ]
    },
    {
      "cell_type": "code",
      "metadata": {
        "execution": {
          "iopub.status.busy": "2021-11-15T12:22:58.938381Z",
          "iopub.execute_input": "2021-11-15T12:22:58.938597Z",
          "iopub.status.idle": "2021-11-15T12:22:58.950883Z",
          "shell.execute_reply.started": "2021-11-15T12:22:58.938572Z",
          "shell.execute_reply": "2021-11-15T12:22:58.950137Z"
        },
        "trusted": true,
        "id": "QP-PVrr7u6V3"
      },
      "source": [
        "\n",
        "'''\n",
        "x_train, x_test, y_train, y_test = train_test_split(train_X, train_Y, \n",
        "                                   test_size = 0.1, random_state = 999, \n",
        "                                   shuffle = True)\n",
        "\n",
        "# Training a model\n",
        "XGB_model = xgb.XGBRegressor(use_label_encoder = False, \n",
        "                             eval_metric = 'rmse', \n",
        "                             n_estimators = 10000)\n",
        "\n",
        "XGB_param_Random = {'reg_alpha': [0.01, 0.05, 0.1, 0.2, 0.5, 1, 2, 3],\n",
        "                    'reg_lambda': [0.01, 0.05, 0.1, 0.2, 0.5, 1, 2, 3],\n",
        "                    'learning_rate': [x / 400 for x in range(1, 10, 1)],\n",
        "                    'max_depth': list(range(2, 15, 1)),\n",
        "                    'min_child_weight': list(range(2, 35, 1)),\n",
        "                    'gamma': [x / 200 for x in range(0, 50, 1)],\n",
        "                    'subsample': [0.5, 0.6, 0.7, 0.8, 0.9],\n",
        "                    'colsample_bytree': [0.5, 0.6, 0.7, 0.8, 0.9]}\n",
        "\n",
        "XGB_random = RandomizedSearchCV(XGB_model, XGB_param_Random, cv = CV, \n",
        "                                     verbose = False, n_jobs = 7, \n",
        "                                     scoring = 'neg_root_mean_squared_error', \n",
        "                                     n_iter = 65)\n",
        "\n",
        "XGB_fit = XGB_random.fit(x_train, y_train, \n",
        "                              early_stopping_rounds = 200, \n",
        "                              eval_set = [[x_test, y_test]], \n",
        "                              eval_metric = 'rmse', verbose = False)\n",
        "\n",
        "# Getting scores and parameters\n",
        "round(-1*XGB_fit.best_score_, 5)\n",
        "XGB_fit.best_params_\n",
        "'''"
      ],
      "execution_count": null,
      "outputs": []
    },
    {
      "cell_type": "markdown",
      "metadata": {
        "id": "HGwMiK2Hu6V4"
      },
      "source": [
        "#### 5.1.4. LightGBM"
      ]
    },
    {
      "cell_type": "code",
      "metadata": {
        "execution": {
          "iopub.status.busy": "2021-11-15T12:22:58.952061Z",
          "iopub.execute_input": "2021-11-15T12:22:58.952280Z",
          "iopub.status.idle": "2021-11-15T12:22:58.967652Z",
          "shell.execute_reply.started": "2021-11-15T12:22:58.952257Z",
          "shell.execute_reply": "2021-11-15T12:22:58.966895Z"
        },
        "trusted": true,
        "id": "GJkerBvxu6V4"
      },
      "source": [
        "\n",
        "'''\n",
        "# Training a model\n",
        "LGBM_model = lgb.LGBMRegressor(n_estimators = 10000)\n",
        "\n",
        "LGBM_param_Random = {'reg_lambda': [0.01, 0.05, 0.1, 0.2, 0.5, 1, 2],\n",
        "                     'reg_alpha': [0.01, 0.05, 0.1, 0.2, 0.5, 1, 2],\n",
        "                     'min_child_samples': randint(1, 100),\n",
        "                     'subsample': [x / 10 for x in range(1, 10, 1)], # bagging_fraction\n",
        "                     'subsample_freq': randint(1, 200), # bagging_freq\n",
        "                     'num_leaves': randint(1, 200),\n",
        "                     'max_depth': list(range(1, 15, 1)),\n",
        "                     'max_bin': randint(1, 700),\n",
        "                     'learning_rate': [x / 200 for x in range(1, 10, 1)],\n",
        "                     'colsample_bytree': [x / 10 for x in range(1, 11, 1)]} # feature_fraction \n",
        "                        \n",
        "                    \n",
        "LGBM_random = RandomizedSearchCV(LGBM_model, LGBM_param_Random, cv = CV, \n",
        "                                      verbose = False, n_jobs = 7, \n",
        "                                      scoring = 'neg_root_mean_squared_error', n_iter = 100)\n",
        "\n",
        "LGBM_fit = LGBM_random.fit(x_train, y_train, early_stopping_rounds = 100, \n",
        "                                eval_set = [[x_test, y_test]], \n",
        "                                eval_metric = 'rmse', verbose = False)\n",
        "\n",
        "# Getting scores and parameters\n",
        "round(-1*LGBM_fit.best_score_, 5)\n",
        "LGBM_fit.best_params_\n",
        "'''"
      ],
      "execution_count": null,
      "outputs": []
    },
    {
      "cell_type": "markdown",
      "metadata": {
        "id": "YGQVwSGmu6V4"
      },
      "source": [
        "#### 5.1.5. SVR"
      ]
    },
    {
      "cell_type": "code",
      "metadata": {
        "execution": {
          "iopub.status.busy": "2021-11-15T12:22:58.969262Z",
          "iopub.execute_input": "2021-11-15T12:22:58.969859Z",
          "iopub.status.idle": "2021-11-15T12:22:58.985072Z",
          "shell.execute_reply.started": "2021-11-15T12:22:58.969814Z",
          "shell.execute_reply": "2021-11-15T12:22:58.984383Z"
        },
        "trusted": true,
        "id": "XMKVxvtcu6V4"
      },
      "source": [
        "'''\n",
        "# Before using SVR, we have to scale data.\n",
        "\n",
        "vars_for_scaling = (train_mean_encoded.columns.tolist() + \n",
        "                   df_train[cont_balanced].columns.tolist())\n",
        "\n",
        "Scaler = RobustScaler()\n",
        "\n",
        "train_scaled_X = train_X.copy()\n",
        "test_scaled_X = test_X.copy()\n",
        "\n",
        "for column in vars_for_scaling:\n",
        "    \n",
        "    train_scaled_X[column] = Scaler.fit_transform(train_X[[column]])\n",
        "    test_scaled_X[column] = Scaler.fit_transform(test_X[[column]])\n",
        "    \n",
        "\n",
        "# Training a model\n",
        "SVR_model = SVR()\n",
        "\n",
        "parameters = {'kernel' : ['rbf'],\n",
        "              'C' : list(range(1, 100, 1)),\n",
        "              'epsilon' : [x / 2000 for x in range(1, 50, 1)],\n",
        "              'gamma' : [x / 10000 for x in range(1, 50, 1)]}\n",
        "\n",
        "SVR_random = RandomizedSearchCV(SVR_model, parameters, cv = CV, \n",
        "                                    verbose = False, n_jobs = 7, \n",
        "                                    scoring = 'neg_root_mean_squared_error', \n",
        "                                    n_iter = 60)\n",
        "\n",
        "SVR_fit = SVR_random.fit(train_scaled_X, train_Y)\n",
        "\n",
        "# Getting scores and parameters\n",
        "\n",
        "round(-1*SVR_fit.best_score_, 3)\n",
        "SVR_fit.best_params_\n",
        "'''"
      ],
      "execution_count": null,
      "outputs": []
    },
    {
      "cell_type": "markdown",
      "metadata": {
        "id": "D2EgReE7u6V4"
      },
      "source": [
        "#### 5.1.6. KRR"
      ]
    },
    {
      "cell_type": "code",
      "metadata": {
        "execution": {
          "iopub.status.busy": "2021-11-15T12:22:58.987310Z",
          "iopub.execute_input": "2021-11-15T12:22:58.987605Z",
          "iopub.status.idle": "2021-11-15T12:22:58.999939Z",
          "shell.execute_reply.started": "2021-11-15T12:22:58.987570Z",
          "shell.execute_reply": "2021-11-15T12:22:58.998967Z"
        },
        "trusted": true,
        "id": "mBq534W2u6V4"
      },
      "source": [
        "\n",
        "'''\n",
        "krr_model = Pipeline([\n",
        "    ('scaler', RobustScaler()),\n",
        "    ('model', krr())\n",
        "])\n",
        "\n",
        "parameters = {\n",
        "    'model__alpha': list(0.0001 * np.arange(1, 100)),\n",
        "    'model__degree': [1, 2, 3],\n",
        "    'model__kernel': ['polynomial'],\n",
        "    'model__coef0': [2.5]\n",
        "}\n",
        "\n",
        "krr_grid = GridSearchCV(krr_model, parameters, scoring='neg_mean_squared_error',\n",
        "                           cv=5, n_jobs=-1, verbose=0)\n",
        "\n",
        "krr_fit = krr_grid.fit(train_X, train_Y)\n",
        "krr_fit.best_params_\n",
        "'''"
      ],
      "execution_count": null,
      "outputs": []
    },
    {
      "cell_type": "markdown",
      "metadata": {
        "id": "L3wt2m5zu6V4"
      },
      "source": [
        "#### 5.2. Stacking <a name = \"stacking\"></a>\n",
        "\n",
        "Stacking consists of two types of learners; base learner, meta (final) learner. Base learners get prediction with train_X and obtained predictions will be used as a new train set for final learning with final learner. When the performance of each model was compared alone, the performance of Lasso was the best. Thus, Lasso was selected as the final learner."
      ]
    },
    {
      "cell_type": "code",
      "metadata": {
        "execution": {
          "iopub.status.busy": "2021-11-15T12:22:59.001508Z",
          "iopub.execute_input": "2021-11-15T12:22:59.002262Z",
          "iopub.status.idle": "2021-11-15T12:23:12.624733Z",
          "shell.execute_reply.started": "2021-11-15T12:22:59.002215Z",
          "shell.execute_reply": "2021-11-15T12:23:12.623378Z"
        },
        "trusted": true,
        "id": "GKyZ4fJju6V4"
      },
      "source": [
        "from sklearn.ensemble import StackingRegressor\n",
        "from sklearn.pipeline import make_pipeline\n",
        "\n",
        "# Form base learners with parameters obtained from parameter tuning\n",
        "base_learners = [('elasticnet', linear_model.ElasticNet(tol= 1e-06, max_iter= 4000, l1_ratio= 0.44, alpha= 0.00006)),\n",
        "                 ('lasso', linear_model.Lasso(alpha= 0.00024, max_iter= 3000, tol= 1e-07)),\n",
        "                 ('xgb', xgb.XGBRegressor(colsample_bytree= 0.8,\n",
        "                 gamma= 0.0,\n",
        "                 learning_rate= 0.005,\n",
        "                 max_depth= 5,\n",
        "                 min_child_weight= 6,\n",
        "                 reg_alpha= 0.01,\n",
        "                 reg_lambda= 0.2,\n",
        "                 subsample= 0.7)),\n",
        "                 ('svr', make_pipeline(RobustScaler(), SVR(kernel= 'rbf', gamma= 0.0002, epsilon= 0.0055, C= 33))),\n",
        "                 ('krr', make_pipeline(RobustScaler(), krr(alpha= 0.0099, coef0= 2.5, degree= 1, kernel= 'polynomial')))\n",
        "    \n",
        "]\n",
        "\n",
        "# Final stack with final estimator\n",
        "final_stack = StackingRegressor(estimators = base_learners, \n",
        "                                final_estimator = linear_model.Lasso(alpha= 0.00024, max_iter= 3000, tol= 1e-07), \n",
        "                                passthrough = True, verbose = False, cv = 5)\n",
        "\n",
        "stacking_fit = final_stack.fit(train_X, train_Y)\n",
        "y_pred = stacking_fit.predict(test_X)"
      ],
      "execution_count": null,
      "outputs": []
    },
    {
      "cell_type": "code",
      "metadata": {
        "execution": {
          "iopub.status.busy": "2021-11-15T12:23:12.630898Z",
          "iopub.execute_input": "2021-11-15T12:23:12.631332Z",
          "iopub.status.idle": "2021-11-15T12:23:12.653210Z",
          "shell.execute_reply.started": "2021-11-15T12:23:12.631286Z",
          "shell.execute_reply": "2021-11-15T12:23:12.652195Z"
        },
        "trusted": true,
        "id": "V61VeN1cu6V4"
      },
      "source": [
        "submission = pd.DataFrame({'Id': list(range(1461, 2920)), 'SalePrice': np.exp(y_pred)})\n",
        "submission.to_csv('submission.csv', index = False)"
      ],
      "execution_count": null,
      "outputs": []
    }
  ]
}